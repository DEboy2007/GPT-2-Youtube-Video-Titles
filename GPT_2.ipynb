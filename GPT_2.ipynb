{
  "nbformat": 4,
  "nbformat_minor": 0,
  "metadata": {
    "colab": {
      "name": "GPT-2-Youtube-Video-Titles.ipynb",
      "provenance": [],
      "collapsed_sections": []
    },
    "kernelspec": {
      "name": "python3",
      "display_name": "Python 3"
    },
    "language_info": {
      "name": "python"
    },
    "accelerator": "GPU"
  },
  "cells": [
    {
      "cell_type": "code",
      "metadata": {
        "colab": {
          "base_uri": "https://localhost:8080/"
        },
        "id": "9bAGmAMXrvG4",
        "outputId": "dfb54340-68d3-4d56-a288-adeaefabe183"
      },
      "source": [
        "!pip install -q gpt-2-simple"
      ],
      "execution_count": 2,
      "outputs": [
        {
          "output_type": "stream",
          "name": "stdout",
          "text": [
            "  Building wheel for gpt-2-simple (setup.py) ... \u001b[?25l\u001b[?25hdone\n"
          ]
        }
      ]
    },
    {
      "cell_type": "code",
      "metadata": {
        "id": "9Y_G-TUkr0wN"
      },
      "source": [
        "import gpt_2_simple as gpt2\n",
        "import datetime as datetime\n",
        "from google.colab import files"
      ],
      "execution_count": 1,
      "outputs": []
    },
    {
      "cell_type": "code",
      "metadata": {
        "colab": {
          "base_uri": "https://localhost:8080/"
        },
        "id": "NNFHTrhir8t4",
        "outputId": "67c6aba5-d1bd-4b29-8ec1-3546c4776dd7"
      },
      "source": [
        "!nvidia-smi"
      ],
      "execution_count": 4,
      "outputs": [
        {
          "output_type": "stream",
          "name": "stdout",
          "text": [
            "Sun Nov  7 20:36:17 2021       \n",
            "+-----------------------------------------------------------------------------+\n",
            "| NVIDIA-SMI 495.44       Driver Version: 460.32.03    CUDA Version: 11.2     |\n",
            "|-------------------------------+----------------------+----------------------+\n",
            "| GPU  Name        Persistence-M| Bus-Id        Disp.A | Volatile Uncorr. ECC |\n",
            "| Fan  Temp  Perf  Pwr:Usage/Cap|         Memory-Usage | GPU-Util  Compute M. |\n",
            "|                               |                      |               MIG M. |\n",
            "|===============================+======================+======================|\n",
            "|   0  Tesla K80           Off  | 00000000:00:04.0 Off |                    0 |\n",
            "| N/A   67C    P8    35W / 149W |      0MiB / 11441MiB |      0%      Default |\n",
            "|                               |                      |                  N/A |\n",
            "+-------------------------------+----------------------+----------------------+\n",
            "                                                                               \n",
            "+-----------------------------------------------------------------------------+\n",
            "| Processes:                                                                  |\n",
            "|  GPU   GI   CI        PID   Type   Process name                  GPU Memory |\n",
            "|        ID   ID                                                   Usage      |\n",
            "|=============================================================================|\n",
            "|  No running processes found                                                 |\n",
            "+-----------------------------------------------------------------------------+\n"
          ]
        }
      ]
    },
    {
      "cell_type": "code",
      "metadata": {
        "colab": {
          "base_uri": "https://localhost:8080/"
        },
        "id": "JG5MeREZv8uU",
        "outputId": "93fc88f1-ba60-43fa-f22e-176023a21660"
      },
      "source": [
        "gpt2.download_gpt2(model_name=\"124M\")"
      ],
      "execution_count": 5,
      "outputs": [
        {
          "output_type": "stream",
          "name": "stderr",
          "text": [
            "Fetching checkpoint: 1.05Mit [00:00, 195Mit/s]                                                      \n",
            "Fetching encoder.json: 1.05Mit [00:00, 7.35Mit/s]\n",
            "Fetching hparams.json: 1.05Mit [00:00, 674Mit/s]                                                    \n",
            "Fetching model.ckpt.data-00000-of-00001: 498Mit [00:17, 29.2Mit/s]                                  \n",
            "Fetching model.ckpt.index: 1.05Mit [00:00, 217Mit/s]                                                \n",
            "Fetching model.ckpt.meta: 1.05Mit [00:00, 8.63Mit/s]\n",
            "Fetching vocab.bpe: 1.05Mit [00:00, 9.77Mit/s]\n"
          ]
        }
      ]
    },
    {
      "cell_type": "code",
      "metadata": {
        "colab": {
          "base_uri": "https://localhost:8080/"
        },
        "id": "PmjM3BVQxIoA",
        "outputId": "16fd5caa-748e-4974-f4c0-7fafa1aa1f9c"
      },
      "source": [
        "gpt2.mount_gdrive()"
      ],
      "execution_count": 3,
      "outputs": [
        {
          "output_type": "stream",
          "name": "stdout",
          "text": [
            "Drive already mounted at /content/drive; to attempt to forcibly remount, call drive.mount(\"/content/drive\", force_remount=True).\n"
          ]
        }
      ]
    },
    {
      "cell_type": "code",
      "metadata": {
        "id": "nHuon3TTyork"
      },
      "source": [
        "file_name = \"video_titles.txt\""
      ],
      "execution_count": 2,
      "outputs": []
    },
    {
      "cell_type": "code",
      "metadata": {
        "colab": {
          "base_uri": "https://localhost:8080/"
        },
        "id": "7gnoL_9qy4wS",
        "outputId": "38c63917-8f06-421d-d9c7-1237fde402ef"
      },
      "source": [
        "sess = gpt2.start_tf_sess()\n",
        "\n",
        "gpt2.finetune(sess,\n",
        "    dataset=file_name,\n",
        "    model_name=\"124M\",\n",
        "    steps=30,\n",
        "    restore_from=\"fresh\",\n",
        "    run_name=\"run1\",\n",
        "    print_every=10, \n",
        "    sample_every=15,\n",
        "    save_every=15\n",
        "    )"
      ],
      "execution_count": 3,
      "outputs": [
        {
          "output_type": "stream",
          "name": "stdout",
          "text": [
            "Loading checkpoint models/124M/model.ckpt\n",
            "INFO:tensorflow:Restoring parameters from models/124M/model.ckpt\n",
            "Loading dataset...\n"
          ]
        },
        {
          "output_type": "stream",
          "name": "stderr",
          "text": [
            "100%|██████████| 1/1 [00:00<00:00, 713.07it/s]"
          ]
        },
        {
          "output_type": "stream",
          "name": "stdout",
          "text": [
            "dataset has 11575 tokens\n",
            "Training...\n"
          ]
        },
        {
          "output_type": "stream",
          "name": "stderr",
          "text": [
            "\n"
          ]
        },
        {
          "output_type": "stream",
          "name": "stdout",
          "text": [
            "[10 | 49.35] loss=0.72 avg=0.72\n",
            "Saving checkpoint/run1/model-15\n",
            "======== SAMPLE 1 ========\n",
            "\n",
            "\n",
            "The following are facts that contradict this lie\n",
            "\n",
            "The following are facts that contradict the conspiracy theory\n",
            "\n",
            "Get over it! You will soon be rich!\n",
            "\n",
            "The following are lies that contradict the Bible\n",
            "\n",
            "Win @#$%% at the race\n",
            "\n",
            "$10,000,000 is a far cry from the millions it tells\n",
            "\n",
            "The following are the greatest fears of all time\n",
            "\n",
            "Halloween in 2021 is almost here\n",
            "\n",
            "Get ready for another year of terror!\n",
            "\n",
            "You will be required to wear an adult coloring book during the course of your ticket purchase\n",
            "\n",
            "It costs you $60 to enter the United States\n",
            "\n",
            "The following are some of the most offensive statements ever made by an astronaut\n",
            "\n",
            "The following are the greatest disappointments in movie history\n",
            "\n",
            "It's probably due to the fact that the earth revolves around the sun\n",
            "\n",
            "Squidcares are back!\n",
            "\n",
            "Win the lottery ticket this November\n",
            "\n",
            "Did you know that America has the greatest birthrate?\n",
            "\n",
            "Get ready for another year of bad news\n",
            "\n",
            "Life expectancy at birth has been declining for the last 25 years\n",
            "\n",
            "Get excited for the movie \"Guardians of the Galaxy Vol. 2\"\n",
            "\n",
            "It doesn't take a rocket scientist to figure out that America has the worst birthrate\n",
            "\n",
            "Never say this at a restaurant\n",
            "\n",
            "Did you know that America has the highest child poverty rate\n",
            "\n",
            "Win the lottery ticket this November\n",
            "\n",
            "Did you know that America has the greatest per capita income?\n",
            "\n",
            "$17,700\n",
            "\n",
            "Win the lottery ticket this November\n",
            "\n",
            "Did you know that America has the highest poverty rate?\n",
            "\n",
            "$17,500\n",
            "\n",
            "Win the lottery ticket this November\n",
            "\n",
            "Did you know that the earth revolves around the sun?\n",
            "\n",
            "Squidcares are back!\n",
            "\n",
            "Win the lottery ticket this November\n",
            "\n",
            "Did you know that America has a lower suicide rate than any other country in the world?\n",
            "\n",
            "Win the lottery ticket this November\n",
            "\n",
            "Did you know that America has the highest murder rate since 9/11?\n",
            "\n",
            "Win the lottery ticket this November\n",
            "\n",
            "Did you know that America has the highest imprisonment rate since 9/11?\n",
            "\n",
            "Win the lottery ticket this November\n",
            "\n",
            "Did you know that America has the highest child poverty rate since 9/11?\n",
            "\n",
            "Win the lottery ticket this November\n",
            "\n",
            "Did you know that America has the highest illiterate population in the world?\n",
            "\n",
            "Win the lottery ticket this November\n",
            "\n",
            "Did you know that the United States is the second worst place in the world after China?\n",
            "\n",
            "Win the lottery ticket this November\n",
            "\n",
            "Did you know that America is the third worst country in the world after Russia and Iran?\n",
            "\n",
            "Win the lottery ticket this November\n",
            "\n",
            "Did you pick any of the four presidential candidates during the 2016 election?\n",
            "\n",
            "The greatest comeback since Avengers endgame\n",
            "\n",
            "Win the lottery ticket this November\n",
            "\n",
            "Did you know that America has the highest college attendance since 9/1/2001?\n",
            "\n",
            "Win the lottery ticket this November\n",
            "\n",
            "Did you follow any of the million-dollar news programs since January 2015?\n",
            "\n",
            "The greatest comeback since Avengers endgame\n",
            "\n",
            "Win the lottery ticket this November\n",
            "\n",
            "Did you know that America leads the world in school accountability?\n",
            "\n",
            "Win the lottery ticket this November\n",
            "\n",
            "Did you pick any of the five greatest hits since 9/1/2001?\n",
            "\n",
            "Showing off your grades on Netflix is like playing Tetris\n",
            "\n",
            "Win the lottery ticket this November\n",
            "\n",
            "Did you follow any of the million-dollar news programs since January 2015?\n",
            "\n",
            "The greatest comeback since Avengers endgame\n",
            "\n",
            "Win the lottery ticket this November\n",
            "\n",
            "Did you pick any of the five greatest plays since 9/1/2001?\n",
            "\n",
            "The greatest comeback since Avengers endgame\n",
            "\n",
            "Win the lottery ticket this November\n",
            "\n",
            "Did you follow any of the billion-dollar companies since January 2015?\n",
            "\n",
            "The greatest comeback since Avengers endgame\n",
            "\n",
            "Win the lottery ticket this November\n",
            "\n",
            "Did you follow any of the million-dollar companies since January 2015?\n",
            "\n",
            "The greatest comeback since Avengers endgame\n",
            "\n",
            "Win the lottery ticket this November\n",
            "\n",
            "Did you pick any of the greatest plays since 9/1/2001?\n",
            "\n",
            "The greatest comeback since Avengers endgame\n",
            "\n",
            "Win the lottery ticket this November\n",
            "\n",
            "Did you follow any of the billion-dollar companies since January 2015?\n",
            "\n",
            "The greatest comeback since Avengers endgame\n",
            "\n",
            "Win the lottery ticket this November\n",
            "\n",
            "Did you follow any of the billions of dollars in losses since January 2015?\n",
            "\n",
            "The greatest comeback since Avengers endgame\n",
            "\n",
            "Win the lottery ticket this November\n",
            "\n",
            "Did you pick any of the greatest plays since 9/1/2001?\n",
            "\n",
            "The greatest comeback since Avengers endgame\n",
            "\n",
            "Win the lottery ticket this November\n",
            "\n",
            "Did you follow any of the billions in losses since January 2015?\n",
            "\n",
            "The greatest comeback since Avengers endgame\n",
            "\n",
            "Win the lottery ticket this November\n",
            "\n",
            "\n",
            "\n",
            "[20 | 117.07] loss=0.05 avg=0.38\n",
            "[30 | 161.65] loss=0.02 avg=0.26\n",
            "Saving checkpoint/run1/model-30\n",
            "WARNING:tensorflow:From /usr/local/lib/python3.7/dist-packages/tensorflow/python/training/saver.py:971: remove_checkpoint (from tensorflow.python.training.checkpoint_management) is deprecated and will be removed in a future version.\n",
            "Instructions for updating:\n",
            "Use standard file APIs to delete files with this prefix.\n"
          ]
        }
      ]
    },
    {
      "cell_type": "code",
      "metadata": {
        "id": "iIB4QzPizRli"
      },
      "source": [
        "gpt2.copy_checkpoint_to_gdrive(run_name=\"run1\")"
      ],
      "execution_count": 4,
      "outputs": []
    },
    {
      "cell_type": "code",
      "metadata": {
        "colab": {
          "base_uri": "https://localhost:8080/"
        },
        "id": "AdbdwcQ2TisB",
        "outputId": "69ecf80b-ad7b-4a59-a321-acca4cd9cb63"
      },
      "source": [
        "gpt2.copy_checkpoint_from_gdrive(run_name=\"run1\")\n",
        "gpt2.generate(sess, run_name=\"run1\")"
      ],
      "execution_count": 5,
      "outputs": [
        {
          "output_type": "stream",
          "name": "stdout",
          "text": [
            "Firearms in America Are at War\n",
            "It's Mathematically Unlikely You Will Watch This\n",
            "when your homework is due in 1 minute 😂\n",
            "Kahoot Names Be Like...\n",
            "This plot twist is bigger than anything on Netflix...\n",
            "When You Win the Kahoot by Guessing...\n",
            "Halloween in 2021 be like...\n",
            "When You Cheat in School Kahoot...\n",
            "Discord Raids Be Like...\n",
            "When Your Class plays Kahoot...\n",
            "500,000,000 Subscribers\n",
            "Squid Game in America Be Like...\n",
            "When the Doctor tells you bad news...\n",
            "Phone Batteries Be Like...\n",
            "When Your Favorite Song Comes On...\n",
            "Squid Game Be Like...\n",
            "Internet Arguments Be Like...\n",
            "When Mom Takes Your Phone Away...\n",
            "Checking Discord in the Morning...\n",
            "When a Hacker meets another Hacker...\n",
            "Dad Wakes Up From 10-Year Coma, Regrets It\n",
            "YouTube Comments Be Like...\n",
            "Kid Bullies Classmate, Instantly Regrets It\n",
            "When a Prank Goes Too Far...\n",
            "Unplugging Your Phone during an Update...\n",
            "Beluga Face Reveal\n",
            "Impress Any Girl in 9.017 Seconds\n",
            "When Your Screen Time runs out...\n",
            "Hardest Riddle in the World (99.9% fail)\n",
            "When Mom Calls You for Dinner...\n",
            "When your Birthday Card has no Money in it...\n",
            "When You Use the Wrong Emoji...\n",
            "Get Away with Any Crime in 3.071 Seconds\n",
            "When Someone Blocks You on Discord...\n",
            "When Autocorrect Destroys Your Marriage...\n",
            "When Your Phone Charges Overnight...\n",
            "Make Anyone Laugh in 9.017 Seconds\n",
            "When Your Storage runs out...\n",
            "When Your WiFi Stops Working...\n",
            "When someone doesn't follow you back...\n",
            "When a Hacker Finds Your Address...\n",
            "When You Win the Lottery...\n",
            "Never say this at a restaurant...\n",
            "When You Forget Your Passcode...\n",
            "When a \"Friend\" forgets your Birthday...\n",
            "When You Ask for the WiFi Password...\n",
            "When you Call them by Accident but they pick up...\n",
            "Turning off Airplane Mode during a Flight...\n",
            "Your Password has been Changed.\n",
            "Win Any Argument in 9.17 Seconds\n",
            "The impossible test (99.9% fail)\n",
            "When You Accidentally Download a Virus...\n",
            "When Your Phone is at 1%\n",
            "Discord Light Mode Users Be Like...\n",
            "No Phones at the Dinner table... (plot twist)\n",
            "The greatest comeback since Avengers endgame...\n",
            "When You Ask for a Plastic Straw at Starbucks\n",
            "When a Hacker Fixes Your Computer...\n",
            "When a Discord Mod plays Among Us...\n",
            "Discord Mod Applications Be Like...\n",
            "When a Hacker Finds Your Password...\n",
            "Discord Mod VS Flat Earther\n",
            "1 million subscriber special\n",
            "Discord Nitro Speedrun (97.1% success)\n",
            "Giving @everyone to 39,701 people... (RIP Discord)\n",
            "Life of a Discord Mod (24 hours)\n",
            "Discord Mod VS Facebook Mom\n",
            "Discord Girlfriend Speedrun (bad ending)\n",
            "Discord Ban Speedrun (97.1% effective)\n",
            "Discord Server Owners Be Like...\n",
            "Countries Portrayed by Discord\n",
            "Discord Mod Speedrun (9.17 seconds)\n",
            "Running Minecraft on a 2006 Nintendo DS\n",
            "Discord Mods Be Like...\n",
            "Did Dream Cheat His Speedrun on Purpose?\n",
            "How 126,000,000 Minecraft Accounts Got Hacked\n",
            "Renaming My YouTube Channel (emotional)\n",
            "Man Attacked By Goose (almost dies)\n",
            "It's Mathematically Unlikely You Will Watch This\n",
            "when your homework is due in 1 minute 😂\n",
            "Kahoot Names Be Like...\n",
            "This plot twist is bigger than anything on Netflix...\n",
            "When You Win the Kahoot by Guessing...\n",
            "Halloween in 2021 be like...\n",
            "When You Cheat in School Kahoot...\n",
            "Discord Raids Be Like...\n",
            "When Your Class plays Kahoot...\n",
            "500,000,000 Subscribers\n",
            "Squid Game in America Be Like...\n",
            "When the Doctor tells you bad news...\n",
            "Phone Batteries Be Like...\n",
            "When Your Favorite Song Comes On...\n",
            "Squid Game Be Like...\n",
            "Internet Arguments Be Like...\n",
            "When Mom Takes Your Phone Away...\n",
            "Checking Discord in the Morning...\n",
            "When a Hacker meets another Hacker...\n",
            "Dad Wakes Up From 10-Year Coma, Regrets It\n",
            "YouTube Comments Be Like...\n",
            "Kid Bullies Classmate, Instantly Regrets It\n",
            "When a Prank Goes Too Far...\n",
            "Unplugging Your Phone during an Update...\n",
            "Beluga Face Reveal\n",
            "Impress Any Girl in 9.017 Seconds\n",
            "When Your Screen Time runs out...\n",
            "Hardest Riddle in the World (99.9% fail)\n",
            "When Mom Calls You for Dinner...\n",
            "When your Birthday Card has no Money in it...\n",
            "When You Use the Wrong Emoji...\n",
            "Get Away with Any Crime in\n"
          ]
        }
      ]
    },
    {
      "cell_type": "code",
      "metadata": {
        "id": "AyC7_NlYTs9v"
      },
      "source": [
        ""
      ],
      "execution_count": null,
      "outputs": []
    }
  ]
}